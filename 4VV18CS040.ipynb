{
 "cells": [
  {
   "cell_type": "markdown",
   "metadata": {},
   "source": [
    "# Assignment"
   ]
  },
  {
   "cell_type": "markdown",
   "metadata": {},
   "source": [
    "# Program 1:\n",
    "Write a short program that prints the numbers 1 to 10 using a for loop. Then write an equivalent program that prints the numbers 1 to 10 using a while loop"
   ]
  },
  {
   "cell_type": "code",
   "execution_count": 7,
   "metadata": {},
   "outputs": [],
   "source": [
    "def print10num():\n",
    "    print(\"Printing 10 numbers using for loop\")\n",
    "    for i in range(10):\n",
    "        print(i+1, end=\"  \")\n",
    "    \n",
    "    print(\"\\nPrinting 10 number using while loop\")\n",
    "    x = 1\n",
    "    while x != 11:\n",
    "        print(x, end=\"  \")\n",
    "        x += 1\n"
   ]
  },
  {
   "cell_type": "code",
   "execution_count": 8,
   "metadata": {},
   "outputs": [
    {
     "name": "stdout",
     "output_type": "stream",
     "text": [
      "Printing 10 numbers using for loop\n",
      "1  2  3  4  5  6  7  8  9  10  \n",
      "Printing 10 number using while loop\n",
      "1  2  3  4  5  6  7  8  9  10  "
     ]
    }
   ],
   "source": [
    "# Driver code\n",
    "print10num()"
   ]
  },
  {
   "cell_type": "markdown",
   "metadata": {},
   "source": [
    "# Program 2:\n",
    "Write a function to calculate your age ( input : Date of birth )"
   ]
  },
  {
   "cell_type": "code",
   "execution_count": 10,
   "metadata": {},
   "outputs": [],
   "source": [
    "def age():\n",
    "    birth_date = input(\"Enter your date of birth in 'DD/MM/YYYY' format: \")\n",
    "    bday, bmonth, byear = int(birth_date[:2]), int(birth_date[3:5]), int(birth_date[6:])\n",
    "    today = input(\"Enter today's date in 'DD/MM/YYYY' format: \")\n",
    "    tday, tmonth, tyear = int(today[:2]), int(today[3:5]), int(today[6:])\n",
    "    \n",
    "    age = tyear - byear -1\n",
    "    if tmonth > bmonth:\n",
    "        age += 1\n",
    "    if tmonth == bmonth:\n",
    "        if tday >= bday:\n",
    "            age += 1\n",
    "    \n",
    "    print(f\"You are {age} years old\")"
   ]
  },
  {
   "cell_type": "code",
   "execution_count": 11,
   "metadata": {},
   "outputs": [
    {
     "name": "stdout",
     "output_type": "stream",
     "text": [
      "Enter your date of birth in 'DD/MM/YYYY' format: 15/08/2000\n",
      "Enter today's date in 'DD/MM/YYYY' format: 15/10/2020\n",
      "You are 20 years old\n"
     ]
    }
   ],
   "source": [
    "# Driver code\n",
    "age()"
   ]
  },
  {
   "cell_type": "markdown",
   "metadata": {},
   "source": [
    "# Program 3:\n",
    "Write a program to check whether given string is palindrome or not ( don't use built in function)\n",
    "                                                            "
   ]
  },
  {
   "cell_type": "code",
   "execution_count": 12,
   "metadata": {},
   "outputs": [],
   "source": [
    "def palindrome():\n",
    "    string = input(\"Enter the string: \")\n",
    "    for i in range(len(string)):\n",
    "        if string[i] != string[len(string) -1 - i]:\n",
    "            print(\"Not a palindrome\")\n",
    "            return\n",
    "    print(\"It is a palindrome\")"
   ]
  },
  {
   "cell_type": "code",
   "execution_count": 14,
   "metadata": {},
   "outputs": [
    {
     "name": "stdout",
     "output_type": "stream",
     "text": [
      "Enter the string: ststs\n",
      "It is a palindrome\n"
     ]
    }
   ],
   "source": [
    "# Driver code\n",
    "palindrome()"
   ]
  },
  {
   "cell_type": "markdown",
   "metadata": {},
   "source": [
    "# Program 4:\n",
    "Write a function to calculate the discount amount on a sale \n",
    "Example :\n",
    "    If purchase amount is >5000 discount percentage is 40%\n",
    "    If Purchase amount is >2000 discount percentage is 20%"
   ]
  },
  {
   "cell_type": "code",
   "execution_count": 15,
   "metadata": {},
   "outputs": [],
   "source": [
    "def discount():\n",
    "    discount = 0\n",
    "    amount = int(input(\"Enter the purchase amount: \"))\n",
    "    if amount > 5000:\n",
    "        discount = 0.4\n",
    "    elif amount > 2000:\n",
    "        discount = 0.2\n",
    "    bill = amount - amount*discount\n",
    "    print(f\"Actual amount: {amount}\")\n",
    "    print(\"Bill after discount: {0:.2f}\".format(bill))\n",
    "    print(\"Total savings: {0:.2f}\".format(amount*discount))"
   ]
  },
  {
   "cell_type": "code",
   "execution_count": 16,
   "metadata": {},
   "outputs": [
    {
     "name": "stdout",
     "output_type": "stream",
     "text": [
      "Enter the purchase amount: 4500\n",
      "Actual amount: 4500\n",
      "Bill after discount: 3600.00\n",
      "Total savings: 900.00\n"
     ]
    }
   ],
   "source": [
    "# Driver code\n",
    "discount()"
   ]
  },
  {
   "cell_type": "code",
   "execution_count": null,
   "metadata": {},
   "outputs": [],
   "source": []
  }
 ],
 "metadata": {
  "kernelspec": {
   "display_name": "Python 3",
   "language": "python",
   "name": "python3"
  },
  "language_info": {
   "codemirror_mode": {
    "name": "ipython",
    "version": 3
   },
   "file_extension": ".py",
   "mimetype": "text/x-python",
   "name": "python",
   "nbconvert_exporter": "python",
   "pygments_lexer": "ipython3",
   "version": "3.8.5"
  }
 },
 "nbformat": 4,
 "nbformat_minor": 4
}
